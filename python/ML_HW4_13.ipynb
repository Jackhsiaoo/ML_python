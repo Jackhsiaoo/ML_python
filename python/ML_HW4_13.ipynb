{
 "cells": [
  {
   "cell_type": "code",
   "execution_count": 2,
   "metadata": {},
   "outputs": [],
   "source": [
    "import numpy as np\n",
    "import pandas as pd\n",
    "import math\n",
    "import scipy.linalg as lin\n",
    "import matplotlib.pyplot as plt\n",
    "# Q13-15\n",
    "# 导入数据函数\n",
    "def loadData(filename):\n",
    "    data = pd.read_csv(filename, sep='\\s+', header=None)\n",
    "    data = data.as_matrix()\n",
    "    col, row = data.shape\n",
    "    X = np.c_[np.ones((col, 1)), data[:, 0: row-1]]\n",
    "    Y = data[:, row-1:row]\n",
    "    return X, Y\n",
    "# 误差计算函数\n",
    "def mistake(X, Y, theta):\n",
    "    yhat = X.dot(theta)\n",
    "    yhat[yhat > 0] = 1\n",
    "    yhat[yhat <= 0] = -1\n",
    "    err = np.sum(yhat != Y)/len(Y)\n",
    "    return err\n"
   ]
  },
  {
   "cell_type": "code",
   "execution_count": 4,
   "metadata": {},
   "outputs": [
    {
     "name": "stdout",
     "output_type": "stream",
     "text": [
      "Ein:  0.05 Eout:  0.045\n"
     ]
    },
    {
     "name": "stderr",
     "output_type": "stream",
     "text": [
      "c:\\users\\user\\appdata\\local\\programs\\python\\python36-32\\lib\\site-packages\\ipykernel_launcher.py:9: FutureWarning: Method .as_matrix will be removed in a future version. Use .values instead.\n",
      "  if __name__ == '__main__':\n"
     ]
    }
   ],
   "source": [
    "# Q13\n",
    "if __name__ == '__main__':\n",
    "    X, Y = loadData('data\\hw4_train.dat')\n",
    "    Xtest, Ytest = loadData('data\\hw4_test.dat')\n",
    "    lamda = 10;\n",
    "    row, col = X.shape\n",
    "    wreg = lin.pinv( X.T.dot(X)+lamda*np.eye(col) ).dot( X.T.dot(Y) )\n",
    "    ein = mistake(X, Y, wreg)\n",
    "    eout =  mistake(Xtest, Ytest, wreg)\n",
    "    print('Ein: ',ein,'Eout: ',eout)"
   ]
  },
  {
   "cell_type": "code",
   "execution_count": 12,
   "metadata": {},
   "outputs": [
    {
     "name": "stdout",
     "output_type": "stream",
     "text": [
      "  lamda\t   Ein\t    Eout\n",
      "[[1.00e-10 1.50e-02 2.00e-02]\n",
      " [1.00e-09 1.50e-02 2.00e-02]\n",
      " [1.00e-08 1.50e-02 2.00e-02]\n",
      " [1.00e-07 3.00e-02 1.50e-02]\n",
      " [1.00e-06 3.50e-02 1.60e-02]\n",
      " [1.00e-05 3.00e-02 1.60e-02]\n",
      " [1.00e-04 3.00e-02 1.60e-02]\n",
      " [1.00e-03 3.00e-02 1.60e-02]\n",
      " [1.00e-02 3.00e-02 1.60e-02]\n",
      " [1.00e-01 3.50e-02 1.60e-02]\n",
      " [1.00e+00 3.50e-02 2.00e-02]\n",
      " [1.00e+01 5.00e-02 4.50e-02]\n",
      " [1.00e+02 2.40e-01 2.61e-01]]\n"
     ]
    },
    {
     "name": "stderr",
     "output_type": "stream",
     "text": [
      "c:\\users\\user\\appdata\\local\\programs\\python\\python36-32\\lib\\site-packages\\ipykernel_launcher.py:10: FutureWarning: Method .as_matrix will be removed in a future version. Use .values instead.\n",
      "  # Remove the CWD from sys.path while we load stuff.\n"
     ]
    }
   ],
   "source": [
    "#Q14-15\n",
    "if __name__ == '__main__':\n",
    "    X, Y = loadData('data\\hw4_train.dat')\n",
    "    Xtest, Ytest = loadData('data\\hw4_test.dat')\n",
    "    row, col = X.shape\n",
    "    arr = np.arange(-10,3,1); num = len(arr)\n",
    "    # lamda = 10.0 must be float\n",
    "    lamda = 10.0**arr  \n",
    "    ein = np.zeros((num,1))\n",
    "    eout = np.zeros((num,1))\n",
    "    for i in range(num):\n",
    "        wreg = lin.pinv( X.T.dot(X)+lamda[i]*np.eye(col) ).dot( X.T.dot(Y) )\n",
    "        ein[i] = mistake(X, Y, wreg)\n",
    "        eout[i] = mistake(Xtest, Ytest, wreg)\n",
    "    out = np.c_[np.c_[np.array(lamda),ein],eout]\n",
    "print('  lamda\\t   Ein\\t    Eout')\n",
    "print(out)\n",
    "    "
   ]
  },
  {
   "cell_type": "code",
   "execution_count": 25,
   "metadata": {},
   "outputs": [
    {
     "name": "stderr",
     "output_type": "stream",
     "text": [
      "c:\\users\\user\\appdata\\local\\programs\\python\\python36-32\\lib\\site-packages\\ipykernel_launcher.py:10: FutureWarning: Method .as_matrix will be removed in a future version. Use .values instead.\n",
      "  # Remove the CWD from sys.path while we load stuff.\n"
     ]
    },
    {
     "name": "stdout",
     "output_type": "stream",
     "text": [
      "  lamda\t   Ein\t    Eval\t Eout\n",
      "[[1.00000000e-10 8.33333333e-03 1.25000000e-01 4.00000000e-02]\n",
      " [1.00000000e-09 0.00000000e+00 1.00000000e-01 3.80000000e-02]\n",
      " [1.00000000e-08 0.00000000e+00 5.00000000e-02 2.50000000e-02]\n",
      " [1.00000000e-07 3.33333333e-02 3.75000000e-02 2.10000000e-02]\n",
      " [1.00000000e-06 3.33333333e-02 3.75000000e-02 2.10000000e-02]\n",
      " [1.00000000e-05 3.33333333e-02 3.75000000e-02 2.10000000e-02]\n",
      " [1.00000000e-04 3.33333333e-02 3.75000000e-02 2.10000000e-02]\n",
      " [1.00000000e-03 3.33333333e-02 3.75000000e-02 2.10000000e-02]\n",
      " [1.00000000e-02 3.33333333e-02 3.75000000e-02 2.10000000e-02]\n",
      " [1.00000000e-01 3.33333333e-02 3.75000000e-02 2.20000000e-02]\n",
      " [1.00000000e+00 3.33333333e-02 3.75000000e-02 2.80000000e-02]\n",
      " [1.00000000e+01 7.50000000e-02 1.25000000e-01 8.00000000e-02]\n",
      " [1.00000000e+02 3.41666667e-01 4.12500000e-01 4.14000000e-01]]\n"
     ]
    },
    {
     "data": {
      "image/png": "[encoded data removed]",
      "text/plain": [
       "<Figure size 432x288 with 1 Axes>"
      ]
     },
     "metadata": {},
     "output_type": "display_data"
    }
   ],
   "source": [
    "#Q16-17\n",
    "if __name__ == '__main__':\n",
    "    X, Y = loadData('data\\hw4_train.dat')\n",
    "    Xtest, Ytest = loadData('data\\hw4_test.dat')\n",
    "    Xtrain = X[0:120,:];Ytrain = Y[0:120,:];\n",
    "    Xval = X[120:,:];Yval = Y[120:,:];\n",
    "    row, col = X.shape\n",
    "    arr = np.arange(-10,3,1); num = len(arr)\n",
    "    # lamda = 10.0 must be float\n",
    "    lamda = 10.0**arr  \n",
    "    ein = np.zeros((num,1))\n",
    "    eout = np.zeros((num,1))\n",
    "    evali = np.zeros((num,1))\n",
    "    for i in range(num):\n",
    "        wreg = lin.pinv( Xtrain.T.dot(Xtrain)+lamda[i]*np.eye(col) ).dot( Xtrain.T.dot(Ytrain) )\n",
    "        ein[i] = mistake(Xtrain, Ytrain, wreg)\n",
    "        eout[i] = mistake(Xtest, Ytest, wreg)\n",
    "        evali[i] = mistake(Xval, Yval, wreg)\n",
    "        \n",
    "    out = np.c_[np.c_[np.c_[np.array(lamda),ein],evali],eout]\n",
    "    print('  lamda\\t   Ein\\t    Eval\\t Eout')\n",
    "    print(out)\n",
    "    plt.plot(lamda, ein, label='ein'); plt.plot(lamda, evali, label='eval'); plt.plot(lamda, eout, label='eout')\n",
    "    plt.xscale('log')\n",
    "    plt.legend()\n",
    "    plt.show()\n",
    "    \n"
   ]
  },
  {
   "cell_type": "code",
   "execution_count": 26,
   "metadata": {},
   "outputs": [
    {
     "name": "stdout",
     "output_type": "stream",
     "text": [
      "min eval= 0.0375\n",
      "np.where (array([ 3,  4,  5,  6,  7,  8,  9, 10], dtype=int32), array([0, 0, 0, 0, 0, 0, 0, 0], dtype=int32))\n",
      "min lambda= 1.0\n",
      "final ein= 0.035\n",
      "final eout= 0.02\n"
     ]
    }
   ],
   "source": [
    "#Q18\n",
    "if __name__ == '__main__':\n",
    "    evalimin = np.min(evali)\n",
    "    print('min eval=',evalimin)\n",
    "    print( 'np.where',np.where(evali == evalimin) )\n",
    "    #(3,0)=[0][0],(4,0)=[0][1],[0][-1]= biggest\n",
    "    lamdamin = lamda[np.where(evali == evalimin)[0][-1]]\n",
    "    print('min lambda=',lamdamin)\n",
    "    # find out the best lamda and got it into eout\n",
    "    wreg = lin.pinv( X.T.dot(X)+lamdamin*np.eye(col) ).dot( X.T.dot(Y) )\n",
    "    errin = mistake(X, Y, wreg)\n",
    "    errout =  mistake(Xtest, Ytest, wreg)\n",
    "    print('final ein=',errin)\n",
    "    print('final eout=',errout)"
   ]
  },
  {
   "cell_type": "code",
   "execution_count": 34,
   "metadata": {},
   "outputs": [
    {
     "data": {
      "text/plain": [
       "array([[1, 2],\n",
       "       [3, 4],\n",
       "       [0, 0],\n",
       "       [5, 6],\n",
       "       [7, 8]])"
      ]
     },
     "execution_count": 34,
     "metadata": {},
     "output_type": "execute_result"
    }
   ],
   "source": [
    "import numpy as np\n",
    "a = np.array([[1,2],\n",
    "              [3,4],\n",
    "              [0,0]])\n",
    "b = np.array([[5,6],\n",
    "              [7,8]])\n",
    "c = np.r_[a,b]\n",
    "c\n"
   ]
  },
  {
   "cell_type": "code",
   "execution_count": null,
   "metadata": {},
   "outputs": [],
   "source": []
  }
 ],
 "metadata": {
  "kernelspec": {
   "display_name": "Python 3",
   "language": "python",
   "name": "python3"
  },
  "language_info": {
   "codemirror_mode": {
    "name": "ipython",
    "version": 3
   },
   "file_extension": ".py",
   "mimetype": "text/x-python",
   "name": "python",
   "nbconvert_exporter": "python",
   "pygments_lexer": "ipython3",
   "version": "3.6.4"
  }
 },
 "nbformat": 4,
 "nbformat_minor": 2
}
