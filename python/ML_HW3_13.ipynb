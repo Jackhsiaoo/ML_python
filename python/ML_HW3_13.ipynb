{
 "cells": [
  {
   "cell_type": "code",
   "execution_count": 12,
   "metadata": {},
   "outputs": [
    {
     "name": "stdout",
     "output_type": "stream",
     "text": [
      "theta:  [[-1.02154563  0.02244876 -0.04789976 -0.09890633  1.57825596  1.56717154]]\n",
      "Ein:  0.12609100000000015\n"
     ]
    }
   ],
   "source": [
    "import scipy.linalg as lin\n",
    "# 数据生成函数\n",
    "def generateData(num):\n",
    "    axeX = np.random.uniform(-1, 1, num)\n",
    "    axeY = np.random.uniform(-1, 1, num)\n",
    "    Xtemp = np.c_[axeX, axeY]\n",
    "    X = np.c_[np.ones((num, 1)), Xtemp]\n",
    "    Ytemp = np.sign(np.power(axeX, 2)+np.power(axeY, 2)-0.6)\n",
    "    Ytemp[Ytemp == 0] = -1\n",
    "    pos = np.random.permutation(num)\n",
    "    Ytemp[pos[0: round(0.1*num)]] *= -1\n",
    "    Y = Ytemp.reshape((num, 1))\n",
    "    return X, Y\n",
    "#Q14\n",
    "# 特征转换函数\n",
    "def transform(X):\n",
    "    row, col = X.shape\n",
    "    Xback = np.zeros((row, 6))\n",
    "    Xback[:, 0:col] = X\n",
    "    Xback[:, col] = X[:, 1]*X[:, 2]\n",
    "    Xback[:, col+1] = X[:, 1]**2\n",
    "    Xback[:, col+2] = X[:, 2]**2\n",
    "    return Xback\n",
    "# Q14\n",
    "totalerr = 0\n",
    "for i in range(1000):\n",
    "    X, Y = generateData(1000)\n",
    "    Xtran = transform(X)\n",
    "    theta = lin.pinv(Xtran.T.dot(Xtran)).dot(Xtran.T).dot(Y)\n",
    "    Xtest, Ytest = generateData(1000)\n",
    "    Xback = transform(Xtest)\n",
    "    ypred = np.sign(Xback.dot(theta))\n",
    "    err = np.sum(ypred!=Ytest)/1000\n",
    "    totalerr += err\n",
    "print('theta: ', theta.T)\n",
    "print('Ein: ', totalerr/1000)"
   ]
  },
  {
   "cell_type": "code",
   "execution_count": 10,
   "metadata": {},
   "outputs": [
    {
     "name": "stdout",
     "output_type": "stream",
     "text": [
      "(10,)\n",
      "x= (10, 3)\n",
      "ytemp= [-1. -1.  1.  1.  1. -1. -1.  1.  1.  1.]\n",
      "pos [3 2 0 4 9 7 5 6 8 1]\n",
      "round 1 pos [3]\n",
      "Y= [[-1.]\n",
      " [-1.]\n",
      " [ 1.]\n",
      " [-1.]\n",
      " [ 1.]\n",
      " [-1.]\n",
      " [-1.]\n",
      " [ 1.]\n",
      " [ 1.]\n",
      " [ 1.]]\n"
     ]
    }
   ],
   "source": [
    "import numpy as np\n",
    "num=10\n",
    "axeX = np.random.uniform(-1, 1, num)\n",
    "print(axeX.shape)\n",
    "axeY = np.random.uniform(-1, 1, num)\n",
    "Xtemp = np.c_[axeX, axeY]\n",
    "#print('x=',Xtemp)\n",
    "X = np.c_[np.ones((num, 1)), Xtemp]\n",
    "print('x=',X.shape)\n",
    "Ytemp = np.sign(np.power(axeX, 2)+np.power(axeY, 2)-0.6)\n",
    "print('ytemp=',Ytemp)\n",
    "Ytemp[Ytemp == 0] = -1\n",
    "#print('y=',Ytemp)\n",
    "pos = np.random.permutation(num)\n",
    "print('pos',pos)\n",
    "print('round',round(0.1*num),'pos',pos[0: round(0.1*num)])\n",
    "#print('ytemp',Ytemp[pos[0: round(0.1*num)]])\n",
    "Ytemp[pos[0: round(0.1*num)]] *= -1\n",
    "#print('ytemp',Ytemp)\n",
    "Y = Ytemp.reshape((num, 1))\n",
    "print('Y=',Y)\n"
   ]
  },
  {
   "cell_type": "code",
   "execution_count": null,
   "metadata": {},
   "outputs": [],
   "source": []
  }
 ],
 "metadata": {
  "kernelspec": {
   "display_name": "Python 3",
   "language": "python",
   "name": "python3"
  },
  "language_info": {
   "codemirror_mode": {
    "name": "ipython",
    "version": 3
   },
   "file_extension": ".py",
   "mimetype": "text/x-python",
   "name": "python",
   "nbconvert_exporter": "python",
   "pygments_lexer": "ipython3",
   "version": "3.6.4"
  }
 },
 "nbformat": 4,
 "nbformat_minor": 2
}
