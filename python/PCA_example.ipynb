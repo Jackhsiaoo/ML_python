{
 "cells": [
  {
   "cell_type": "code",
   "execution_count": 85,
   "metadata": {},
   "outputs": [
    {
     "name": "stderr",
     "output_type": "stream",
     "text": [
      "No handles with labels found to put in legend.\n"
     ]
    },
    {
     "name": "stdout",
     "output_type": "stream",
     "text": [
      "eig vector\n",
      " [[-0.73517866 -0.6778734 ]\n",
      " [ 0.6778734  -0.73517866]]\n",
      "eig val\n",
      " [0.0490834 +0.j 1.28402771+0.j]\n",
      "k= (array([1], dtype=int32),)\n",
      " vector=\n",
      " [-0.6778734  -0.73517866]\n",
      "[[ 1.11962288 -2.23216142]\n",
      " [ 1.43759542  0.37338909]\n",
      " [ 1.67911318 -2.39638873]\n",
      " [ 1.4251554  -1.67840165]\n",
      " [ 1.08523973 -3.07999265]\n",
      " [ 1.47002063 -2.31714034]\n",
      " [ 0.94491349 -1.30508179]\n",
      " [ 1.34115545 -0.25961907]\n",
      " [ 1.31250282 -0.9661451 ]\n",
      " [ 1.1320629  -0.18037068]]\n"
     ]
    },
    {
     "data": {
      "image/png": "[encoded data removed]",
      "text/plain": [
       "<Figure size 432x288 with 1 Axes>"
      ]
     },
     "metadata": {},
     "output_type": "display_data"
    },
    {
     "data": {
      "text/plain": [
       "0.5549000000000001"
      ]
     },
     "execution_count": 85,
     "metadata": {},
     "output_type": "execute_result"
    }
   ],
   "source": [
    "import numpy as np\n",
    "import pandas as pd\n",
    "import math\n",
    "import scipy.linalg as lin\n",
    "import matplotlib.pyplot as plt\n",
    "T=np.array([2.5, 0.5, 2.2, 1.9, 3.1, 2.3, 2.0, 1.0, 1.5, 1.1])\n",
    "T=T-1.81\n",
    "S=S-1.91\n",
    "S=np.array([2.4, 0.7, 2.9, 2.2, 3.0, 2.7, 1.6, 1.1, 1.6, 0.9])\n",
    "T=T[:,np.newaxis]\n",
    "S=np.reshape(S,(len(S),1))\n",
    "#兩個特徵向量\n",
    "X=np.hstack((T,S))\n",
    "#計算共變異數 矩陣\n",
    "cov_mat = np.cov(X.T)\n",
    "eigen_val, eigen_vec = lin.eig(cov_mat)\n",
    "print('eig vector\\n',eigen_vec)\n",
    "print('eig val\\n',eigen_val)\n",
    "k=np.where( eigen_val==np.max(eigen_val) ) \n",
    "print('k=',k)\n",
    "value =eigen_val[np.where( eigen_val==np.max(eigen_val) )]\n",
    "vector =np.array(eigen_vec[:,1 ].T)\n",
    "print(' vector=\\n',vector)\n",
    "newX=X.dot(eigen_vec)\n",
    "print(newX)\n",
    "plt.scatter(T,S,)\n",
    "plt.scatter(newX[:,0],newX[:,1],)\n",
    "plt.legend()\n",
    "plt.show()\n",
    "np.var(X[:,0])"
   ]
  },
  {
   "cell_type": "code",
   "execution_count": 94,
   "metadata": {},
   "outputs": [
    {
     "name": "stdout",
     "output_type": "stream",
     "text": [
      "eign vals: [4.8923083  2.46635032 1.42809973 1.01233462 0.84906459 0.60181514\n",
      " 0.52251546 0.08414846 0.33051429 0.29595018 0.16831254 0.21432212\n",
      " 0.2399553 ]\n",
      "[ 0.14669811 -0.24224554 -0.02993442 -0.25519002  0.12079772  0.38934455\n",
      "  0.42326486 -0.30634956  0.30572219 -0.09869191  0.30032535  0.36821154\n",
      "  0.29259713]\n"
     ]
    },
    {
     "data": {
      "text/plain": [
       "[(4.892308303273744,\n",
       "  array([ 0.14669811, -0.24224554, -0.02993442, -0.25519002,  0.12079772,\n",
       "          0.38934455,  0.42326486, -0.30634956,  0.30572219, -0.09869191,\n",
       "          0.30032535,  0.36821154,  0.29259713])),\n",
       " (2.4663503157592275,\n",
       "  array([ 0.50417079,  0.24216889,  0.28698484, -0.06468718,  0.22995385,\n",
       "          0.09363991,  0.01088622,  0.01870216,  0.03040352,  0.54527081,\n",
       "         -0.27924322, -0.174365  ,  0.36315461])),\n",
       " (1.4280997275048457,\n",
       "  array([-0.11723515,  0.14994658,  0.65639439,  0.58428234,  0.08226275,\n",
       "          0.18080442,  0.14295933,  0.17223475,  0.1583621 , -0.14242171,\n",
       "          0.09323872,  0.19607741, -0.09731711])),\n",
       " (1.012334620904496,\n",
       "  array([ 0.20625461,  0.1304893 ,  0.01515363, -0.09042209, -0.83912835,\n",
       "          0.19317948,  0.14045955,  0.33733262, -0.1147529 ,  0.07878571,\n",
       "          0.02417403,  0.18402864,  0.05676778])),\n",
       " (0.8490645933450256,\n",
       "  array([-0.18781595,  0.56863978, -0.29920943, -0.04124995, -0.02719713,\n",
       "          0.14064543,  0.09268665, -0.08584168,  0.56510524,  0.01323461,\n",
       "         -0.37261081,  0.08937967, -0.21752948])),\n",
       " (0.6018151434229914,\n",
       "  array([-0.14885132, -0.26905276, -0.09333861, -0.10134239,  0.11256735,\n",
       "          0.01222488, -0.05503452,  0.69534088,  0.49835441,  0.15945216,\n",
       "          0.21651535, -0.23517236,  0.10562138])),\n",
       " (0.5225154620639968,\n",
       "  array([-0.17926366, -0.59263673,  0.06073346,  0.25032387, -0.28524056,\n",
       "          0.05314553,  0.07989941, -0.29737172,  0.20251913,  0.39736411,\n",
       "         -0.38465475, -0.08629033, -0.13029829])),\n",
       " (0.3305142917309407,\n",
       "  array([-0.40305492, -0.10183371,  0.35184142, -0.50045728,  0.08373917,\n",
       "          0.13511146,  0.00336017,  0.19012076, -0.17602994, -0.21493067,\n",
       "         -0.51725944,  0.13645604,  0.16775843])),\n",
       " (0.29595018365934705,\n",
       "  array([-0.41719758,  0.21710149,  0.12854985,  0.04733441, -0.27891878,\n",
       "         -0.28098565, -0.0391443 , -0.27862219,  0.14853946, -0.00410241,\n",
       "          0.19781412, -0.23813815,  0.63735021])),\n",
       " (0.23995530477949115,\n",
       "  array([ 4.13320786e-04, -8.78560762e-02, -4.52518598e-01,  4.86169765e-01,\n",
       "          1.14764951e-01,  9.45645138e-02, -1.00444099e-01,  2.00128778e-01,\n",
       "         -1.39942067e-01, -1.15349466e-01, -3.02254353e-01,  3.18414303e-01,\n",
       "          5.03247839e-01])),\n",
       " (0.21432211869872345,\n",
       "  array([ 0.40356719, -0.152475  ,  0.16837606, -0.06709029, -0.10239686,\n",
       "         -0.61860015, -0.13968028,  0.00163324,  0.38856849, -0.3083459 ,\n",
       "         -0.20045639,  0.28410033,  0.03755468])),\n",
       " (0.16831253504096194,\n",
       "  array([ 0.27566086, -0.0813845 , -0.01297513,  0.0989088 , -0.09592977,\n",
       "          0.28389764,  0.11672921, -0.03965663,  0.08606027, -0.57165189,\n",
       "         -0.19884453, -0.65086971,  0.07123771])),\n",
       " (0.08414845672679425,\n",
       "  array([-0.05546872,  0.03327316, -0.10061857,  0.05616586,  0.09584239,\n",
       "         -0.42126512,  0.8472247 ,  0.1662568 , -0.16619747,  0.03961736,\n",
       "         -0.10538369, -0.09950556, -0.01606618]))]"
      ]
     },
     "execution_count": 94,
     "metadata": {},
     "output_type": "execute_result"
    }
   ],
   "source": [
    "import pandas as pd\n",
    "\n",
    "df_wine = pd.read_csv('http://archive.ics.uci.edu/ml/machine-learning-databases/wine/wine.data', header=None) # 加载葡萄酒数据集\n",
    "\n",
    "from sklearn.cross_validation import train_test_split\n",
    "from sklearn.preprocessing import StandardScaler\n",
    "\n",
    "X, y = df_wine.iloc[:, 1:].values, df_wine.iloc[:, 0].values # 把数据与标签拆分开来\n",
    "X_train, X_test, y_train, y_test = train_test_split(X, y,test_size=0.3, random_state=0) # 把整个数据集的70%分为训练集，30%为测试集\n",
    "\n",
    "# 下面3行代码把数据集标准化为单位方差和0均值\n",
    "sc = StandardScaler()\n",
    "X_train_std = sc.fit_transform(X_train)\n",
    "X_test_std = sc.fit_transform(X_test)\n",
    "#13 特徵向量\n",
    "X_train.shape\n",
    "cov_mat = np.cov(X_train_std.T)\n",
    "cov_mat.shape # 输出为(13, 13）\n",
    "eigen_vals, eigen_vecs = np.linalg.eig(cov_mat)\n",
    "print('eign vals:',eigen_vals)\n",
    "eigen_pairs =[(np.abs(eigen_vals[i]),eigen_vecs[:,i]) for i in range(len(eigen_vals))] # 把特征值和对应的特征向量组成对\n",
    "eigen_pairs.sort(reverse=True) # 用特征值排序\n",
    "print(eigen_pairs[0][1])\n",
    "eigen_pairs"
   ]
  },
  {
   "cell_type": "code",
   "execution_count": null,
   "metadata": {},
   "outputs": [],
   "source": []
  }
 ],
 "metadata": {
  "kernelspec": {
   "display_name": "Python 3",
   "language": "python",
   "name": "python3"
  },
  "language_info": {
   "codemirror_mode": {
    "name": "ipython",
    "version": 3
   },
   "file_extension": ".py",
   "mimetype": "text/x-python",
   "name": "python",
   "nbconvert_exporter": "python",
   "pygments_lexer": "ipython3",
   "version": "3.6.4"
  }
 },
 "nbformat": 4,
 "nbformat_minor": 2
}
