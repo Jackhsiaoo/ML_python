{
 "cells": [
  {
   "cell_type": "code",
   "execution_count": 27,
   "metadata": {},
   "outputs": [
    {
     "name": "stdout",
     "output_type": "stream",
     "text": [
      "halts= 2\n",
      "w= [ 0.   1.3 -0.8]\n",
      "r= -0.24\n",
      "r= -0.69\n",
      "r= -0.41999999999999993\n",
      "r= -0.79\n",
      "r= -0.5700000000000003\n",
      "r= -0.6299999999999999\n",
      "r= 0.12\n",
      "r= 0.0\n"
     ]
    },
    {
     "data": {
      "image/png": "[encoded data removed]",
      "text/plain": [
       "<Figure size 432x288 with 1 Axes>"
      ]
     },
     "metadata": {},
     "output_type": "display_data"
    },
    {
     "name": "stdout",
     "output_type": "stream",
     "text": [
      "[(1, -0.4, 0.3), (1, -0.3, -0.1), (1, -0.2, 0.4), (1, -0.1, 0.1)]\n"
     ]
    }
   ],
   "source": [
    "import matplotlib.pyplot as plt\n",
    "import numpy as np\n",
    "\n",
    "#網路上找的dataset 可以線性分割\n",
    "\n",
    "dataset = np.array([\n",
    "((1, -0.4, 0.3), -1),\n",
    "((1, -0.3, -0.1), -1),\n",
    "((1, -0.2, 0.4), -1),\n",
    "((1, -0.1, 0.1), -1),\n",
    "((1, 0.9, -0.5), 1),\n",
    "((1, 0.7, -0.9), 1),\n",
    "((1, 0.8, 0.2), 1),\n",
    "((1, 0.4, -0.6), 1)])\n",
    "w = np.zeros(3)\n",
    "eta = 1\n",
    "halts = 0\n",
    "for x,y in dataset:\n",
    "    x = np.array(x)\n",
    "    score = w.T.dot(x)\n",
    "    #print('sign=%s,y=%s'% (np.sign(score),y) )\n",
    "    if int( np.sign(score) )!= y:\n",
    "        halts +=1\n",
    "        w += y*x\n",
    "        \n",
    "print('halts=',halts)\n",
    "print('w=',w)\n",
    "for x,y in dataset:\n",
    "    print('r=',y-w.T.dot(x))\n",
    "ps = [v[0] for v in dataset]\n",
    "fig = plt.figure()\n",
    "ax1 = fig.add_subplot(111)\n",
    "ax1.scatter( [v[1] for v in ps[:4]] , [v[2] for v in ps[:4]], s=10, c='b', marker=\"o\", label='O')\n",
    "l = np.linspace(-2,2)\n",
    "a,b = -w[1]/w[2], -w[0]/w[2]\n",
    "ax1.plot(l, a*l + b, 'b-')\n",
    "plt.show()\n",
    "print(ps[:4])"
   ]
  },
  {
   "cell_type": "code",
   "execution_count": 39,
   "metadata": {},
   "outputs": [
    {
     "data": {
      "image/png": "[encoded data removed]",
      "text/plain": [
       "<Figure size 432x288 with 1 Axes>"
      ]
     },
     "metadata": {},
     "output_type": "display_data"
    },
    {
     "name": "stdout",
     "output_type": "stream",
     "text": [
      "[-1.31700989  5.31604972 -2.70932851]\n"
     ]
    }
   ],
   "source": [
    "import matplotlib.pyplot as plt\n",
    "import numpy as np\n",
    "\n",
    "dataset = np.array([\n",
    "((1, -0.4, 0.3), 0),\n",
    "((1, -0.3, -0.1), 0),\n",
    "((1, -0.2, 0.4), 0),\n",
    "((1, -0.1, 0.1), 0),\n",
    "((1, 0.6, -0.5), 0), #非線性分割點\n",
    "\n",
    "((1, 0.8, 0.7), 1),\n",
    "((1, 0.9, -0.5), 1),\n",
    "((1, 0.7, -0.9), 1),\n",
    "((1, 0.8, 0.2), 1),\n",
    "((1, 0.4, -0.6), 1)])\n",
    "#網路上找的dataset 可以線性分割\n",
    "#計算機率函數\n",
    "\n",
    "def sigmoid(z):\n",
    "    return 1 / (1 + np.exp(-z))\n",
    "    \n",
    "#計算平均梯度\n",
    "\n",
    "def gradient(dataset, w):\n",
    "    g = np.zeros(len(w))\n",
    "    for x,y in dataset:\n",
    "        x = np.array(x)\n",
    "        error = sigmoid(-y*w.T.dot(x))\n",
    "        g += error*(-y*x)\n",
    "    return g / len(dataset)\n",
    "def cost(dataset, w):\n",
    "    total_cost = 0\n",
    "    for x,y in dataset:\n",
    "        x = np.array(x)\n",
    "        score = sigmoid(w.T.dot(x))\n",
    "        total_cost += abs(y - score)\n",
    "    return total_cost\n",
    "\n",
    "dataset = np.array([\n",
    "((1, -0.4, 0.3), -1),\n",
    "((1, -0.3, -0.1), -1),\n",
    "((1, -0.2, 0.4), -1),\n",
    "((1, -0.1, 0.1), -1),\n",
    "((1, 0.9, -0.5), 1),\n",
    "((1, 0.7, -0.9), 1),\n",
    "((1, 0.8, 0.2), 1),\n",
    "((1, 0.4, -0.6), 1)])\n",
    "w = np.zeros(3)\n",
    "\n",
    "limit = 2000 #更新十次後停下\n",
    "\n",
    "eta = 1 #更新幅度\n",
    "\n",
    "costs = [] #紀錄每次更新權重後新的cost是多少\n",
    "\n",
    "for i in range(limit):\n",
    "    w = w - eta * gradient(dataset, w)\n",
    "    current_cost = cost(dataset, w)\n",
    "    #print (\"current_cost=\",current_cost)\n",
    "    costs.append(current_cost)\n",
    "    eta *= 0.99 #更新幅度，逐步遞減\n",
    "plt.plot(range(limit), costs)\n",
    "plt.show()\n",
    "print(w)"
   ]
  },
  {
   "cell_type": "code",
   "execution_count": 66,
   "metadata": {},
   "outputs": [
    {
     "name": "stdout",
     "output_type": "stream",
     "text": [
      "x=\n",
      " [[0 1]\n",
      " [2 3]]\n",
      "None\n",
      "dx\n",
      " [[[ 0  0]\n",
      "  [-2 -2]]\n",
      "\n",
      " [[ 2  2]\n",
      "  [ 0  0]]]\n",
      "dx**2\n",
      " [[ 0 -4]\n",
      " [ 4  0]]\n"
     ]
    }
   ],
   "source": [
    "import numpy as np \n",
    "rand = np.random.RandomState()\n",
    "X = rand.randint(4, size=(2,2))\n",
    "print('x=\\n',X)\n",
    "print(np.newaxis)\n",
    "R =[]\n",
    "for x1 ,x2 in X:\n",
    "    r = x1**2 + x2**2\n",
    "    R.append(r)\n",
    "differences = X[:, np.newaxis, :] - X[np.newaxis, :, :] \n",
    "print('dx\\n',differences)\n",
    "print('dx**2\\n',differences.sum(-1))"
   ]
  },
  {
   "cell_type": "code",
   "execution_count": null,
   "metadata": {},
   "outputs": [],
   "source": []
  }
 ],
 "metadata": {
  "kernelspec": {
   "display_name": "Python 3",
   "language": "python",
   "name": "python3"
  },
  "language_info": {
   "codemirror_mode": {
    "name": "ipython",
    "version": 3
   },
   "file_extension": ".py",
   "mimetype": "text/x-python",
   "name": "python",
   "nbconvert_exporter": "python",
   "pygments_lexer": "ipython3",
   "version": "3.6.4"
  }
 },
 "nbformat": 4,
 "nbformat_minor": 2
}
