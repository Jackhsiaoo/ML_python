{
 "cells": [
  {
   "cell_type": "code",
   "execution_count": 41,
   "metadata": {},
   "outputs": [
    {
     "ename": "NameError",
     "evalue": "name 'lin' is not defined",
     "output_type": "error",
     "traceback": [
      "\u001b[1;31m---------------------------------------------------------------------------\u001b[0m",
      "\u001b[1;31mNameError\u001b[0m                                 Traceback (most recent call last)",
      "\u001b[1;32m<ipython-input-41-7e0e1891fa84>\u001b[0m in \u001b[0;36m<module>\u001b[1;34m()\u001b[0m\n\u001b[0;32m     14\u001b[0m     \u001b[0mX\u001b[0m\u001b[1;33m,\u001b[0m \u001b[0mY\u001b[0m \u001b[1;33m=\u001b[0m \u001b[0mgenerateData\u001b[0m\u001b[1;33m(\u001b[0m\u001b[1;36m1000\u001b[0m\u001b[1;33m)\u001b[0m\u001b[1;33m\u001b[0m\u001b[0m\n\u001b[0;32m     15\u001b[0m     \u001b[0mXtran\u001b[0m \u001b[1;33m=\u001b[0m \u001b[0mtransform\u001b[0m\u001b[1;33m(\u001b[0m\u001b[0mX\u001b[0m\u001b[1;33m)\u001b[0m\u001b[1;33m\u001b[0m\u001b[0m\n\u001b[1;32m---> 16\u001b[1;33m     \u001b[0mtheta\u001b[0m \u001b[1;33m=\u001b[0m \u001b[0mlin\u001b[0m\u001b[1;33m.\u001b[0m\u001b[0mpinv\u001b[0m\u001b[1;33m(\u001b[0m\u001b[0mXtran\u001b[0m\u001b[1;33m.\u001b[0m\u001b[0mT\u001b[0m\u001b[1;33m.\u001b[0m\u001b[0mdot\u001b[0m\u001b[1;33m(\u001b[0m\u001b[0mXtran\u001b[0m\u001b[1;33m)\u001b[0m\u001b[1;33m)\u001b[0m\u001b[1;33m.\u001b[0m\u001b[0mdot\u001b[0m\u001b[1;33m(\u001b[0m\u001b[0mXtran\u001b[0m\u001b[1;33m.\u001b[0m\u001b[0mT\u001b[0m\u001b[1;33m)\u001b[0m\u001b[1;33m.\u001b[0m\u001b[0mdot\u001b[0m\u001b[1;33m(\u001b[0m\u001b[0mY\u001b[0m\u001b[1;33m)\u001b[0m\u001b[1;33m\u001b[0m\u001b[0m\n\u001b[0m\u001b[0;32m     17\u001b[0m     \u001b[0mXtest\u001b[0m\u001b[1;33m,\u001b[0m \u001b[0mYtest\u001b[0m \u001b[1;33m=\u001b[0m \u001b[0mgenerateData\u001b[0m\u001b[1;33m(\u001b[0m\u001b[1;36m1000\u001b[0m\u001b[1;33m)\u001b[0m\u001b[1;33m\u001b[0m\u001b[0m\n\u001b[0;32m     18\u001b[0m     \u001b[0mXback\u001b[0m \u001b[1;33m=\u001b[0m \u001b[0mtransform\u001b[0m\u001b[1;33m(\u001b[0m\u001b[0mXtest\u001b[0m\u001b[1;33m)\u001b[0m\u001b[1;33m\u001b[0m\u001b[0m\n",
      "\u001b[1;31mNameError\u001b[0m: name 'lin' is not defined"
     ]
    }
   ],
   "source": [
    "#Q14\n",
    "# 特征转换函数\n",
    "def transform(X):\n",
    "    row, col = X.shape\n",
    "    Xback = np.zeros((row, 6))\n",
    "    Xback[:, 0:col] = X\n",
    "    Xback[:, col] = X[:, 1]*X[:, 2]\n",
    "    Xback[:, col+1] = X[:, 1]**2\n",
    "    Xback[:, col+2] = X[:, 2]**2\n",
    "    return Xback\n",
    "# Q14\n",
    "totalerr = 0\n",
    "for i in range(1000):\n",
    "    X, Y = generateData(1000)\n",
    "    Xtran = transform(X)\n",
    "    theta = lin.pinv(Xtran.T.dot(Xtran)).dot(Xtran.T).dot(Y)\n",
    "    Xtest, Ytest = generateData(1000)\n",
    "    Xback = transform(Xtest)\n",
    "    ypred = np.sign(Xback.dot(theta))\n",
    "    err = np.sum(ypred!=Ytest)/1000\n",
    "    totalerr += err\n",
    "print('theta: ', theta.T)\n",
    "print('Ein: ', totalerr/1000)"
   ]
  },
  {
   "cell_type": "code",
   "execution_count": 26,
   "metadata": {},
   "outputs": [
    {
     "name": "stdout",
     "output_type": "stream",
     "text": [
      "x= (10, 3)\n",
      "Y= [[ 1.]\n",
      " [ 1.]\n",
      " [ 1.]\n",
      " [ 1.]\n",
      " [-1.]\n",
      " [-1.]\n",
      " [ 1.]\n",
      " [ 1.]\n",
      " [-1.]\n",
      " [ 1.]]\n"
     ]
    }
   ],
   "source": [
    "num=10\n",
    "axeX = np.random.uniform(-1, 1, num)\n",
    "    #print(axeX.shape)\n",
    "axeY = np.random.uniform(-1, 1, num)\n",
    "Xtemp = np.c_[axeX, axeY]\n",
    "    #print('x=',Xtemp)\n",
    "X = np.c_[np.ones((num, 1)), Xtemp]\n",
    "print('x=',X.shape)\n",
    "Ytemp = np.sign(np.power(axeX, 2)+np.power(axeY, 2)-0.6)\n",
    "    #print('y=',Ytemp)\n",
    "Ytemp[Ytemp == 0] = -1\n",
    "    #print('y=',Ytemp)\n",
    "pos = np.random.permutation(num)\n",
    "    #print(pos)\n",
    "    #print(round(0.1*num),'pos',pos[0: round(0.1*num)])\n",
    "    #print('ytemp',Ytemp[pos[0: round(0.1*num)]])\n",
    "Ytemp[pos[0: round(0.1*num)]] *= -1\n",
    "    #print('ytemp',Ytemp)\n",
    "Y = Ytemp.reshape((num, 1))\n",
    "print('Y=',Y)\n"
   ]
  },
  {
   "cell_type": "code",
   "execution_count": null,
   "metadata": {},
   "outputs": [],
   "source": []
  }
 ],
 "metadata": {
  "kernelspec": {
   "display_name": "Python 3",
   "language": "python",
   "name": "python3"
  },
  "language_info": {
   "codemirror_mode": {
    "name": "ipython",
    "version": 3
   },
   "file_extension": ".py",
   "mimetype": "text/x-python",
   "name": "python",
   "nbconvert_exporter": "python",
   "pygments_lexer": "ipython3",
   "version": "3.6.4"
  }
 },
 "nbformat": 4,
 "nbformat_minor": 2
}
