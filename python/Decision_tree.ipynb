{
 "cells": [
  {
   "cell_type": "code",
   "execution_count": 10,
   "metadata": {},
   "outputs": [
    {
     "name": "stdout",
     "output_type": "stream",
     "text": [
      "[ 0.46668159 -0.6634572  -0.20449132]\n",
      "theta\n",
      ": [-0.6634572  -0.20449132  0.46668159]\n",
      "Xtemp:\n",
      " [[ 0.46668159 -0.6634572  -0.20449132]\n",
      " [ 0.46668159 -0.6634572  -0.20449132]\n",
      " [ 0.46668159 -0.6634572  -0.20449132]]\n",
      "ttemp:\n",
      " [[-0.6634572  -0.6634572  -0.6634572 ]\n",
      " [-0.20449132 -0.20449132 -0.20449132]\n",
      " [ 0.46668159  0.46668159  0.46668159]]\n",
      "ypred:\n",
      " [[ 1. -1.  1.]\n",
      " [ 1. -1. -1.]\n",
      " [-1. -1. -1.]]\n",
      "y=\n",
      " [ 1.  1. -1.]\n",
      "err:\n",
      " [2 1 2]\n",
      "1 [-0.20449132] 0.3333333333333333\n",
      "1\n"
     ]
    }
   ],
   "source": [
    "import math\n",
    "import numpy as np\n",
    "import pandas as pd\n",
    "import matplotlib.pyplot as plt\n",
    "# 导入数据函数\n",
    "def loadData(filename):\n",
    "    data = pd.read_csv(filename, sep='\\s+', header=None)\n",
    "    data = data.as_matrix()\n",
    "    col, row = data.shape\n",
    "    X = np.c_[np.ones((col, 1)), data[:, 0: row-1]]\n",
    "    Y = data[:, row-1:row]\n",
    "    return X, Y\n",
    "# 生成数据函数\n",
    "def generateData():\n",
    "    x = np.random.uniform(-1, 1, 3)\n",
    "    y = np.sign(x)\n",
    "    y[y == 0] = -1\n",
    "    prop = np.random.uniform(0, 1, 3)\n",
    "    y[prop >= 0.8] *= -1\n",
    "    return x, y\n",
    "# 单维度决策树桩算法\n",
    "def decision_stump(X, Y):\n",
    "    theta = np.sort(X)\n",
    "    num = len(theta)\n",
    "    Xtemp = np.tile(X, (num, 1))\n",
    "    ttemp = np.tile(np.reshape(theta, (num, 1)), (1, num))\n",
    "    ypred = np.sign(Xtemp - ttemp)\n",
    "    ypred[ypred == 0] = -1\n",
    "    err = np.sum(ypred != Y, axis=1)\n",
    "    if np.min(err) <= num-np.max(err):\n",
    "        return 1, theta[np.argmin(err)], np.min(err)/num\n",
    "    else:\n",
    "        return -1, theta[np.argmax(err)], (num-np.max(err))/num\n",
    "X, Y = generateData()\n",
    "print(X)\n",
    "theta = np.sort(X)\n",
    "print('theta\\n:',theta)\n",
    "num = len(theta)\n",
    "Xtemp = np.tile(X, (num, 1))\n",
    "print('Xtemp:\\n',Xtemp)\n",
    "theta=np.reshape(theta, (num, 1))\n",
    "ttemp = np.tile(theta, (1, num))  #copy 1 times and 3 row\n",
    "print('ttemp:\\n',ttemp)\n",
    "ypred = np.sign(Xtemp - ttemp)\n",
    "ypred[ypred == 0] = -1\n",
    "print('ypred:\\n',ypred)\n",
    "print('y=\\n',Y)\n",
    "err = np.sum(ypred != Y, axis=1)\n",
    "print('err:\\n',err )\n",
    "if np.min(err) <= num-np.max(err):\n",
    "    print(1, theta[np.argmin(err)], np.min(err)/num)\n",
    "else:\n",
    "    print( -1, theta[np.argmax(err)], (num-np.max(err))/num)\n",
    "print(np.argmin(err))"
   ]
  },
  {
   "cell_type": "code",
   "execution_count": 13,
   "metadata": {},
   "outputs": [
    {
     "name": "stdout",
     "output_type": "stream",
     "text": [
      "XSHAPE 100 (100, 10)\n",
      "theta [1. 0. 0. 0. 0. 0. 0. 0. 0. 0.]\n",
      "theta [1.    3.875 0.    0.    0.    0.    0.    0.    0.    0.   ]\n",
      "theta [ 1.     3.875 -3.39   0.     0.     0.     0.     0.     0.     0.   ]\n"
     ]
    },
    {
     "name": "stderr",
     "output_type": "stream",
     "text": [
      "c:\\users\\user\\appdata\\local\\programs\\python\\python36-32\\lib\\site-packages\\ipykernel_launcher.py:8: FutureWarning: Method .as_matrix will be removed in a future version. Use .values instead.\n",
      "  \n"
     ]
    }
   ],
   "source": [
    "X, Y = loadData('data\\hw2_train.dat')\n",
    "#print(X[:,0:5])\n",
    "row, col = X.shape\n",
    "print('XSHAPE',len(X),X.shape)\n",
    "err = np.zeros((col,)); s = np.zeros((col,)); theta = np.zeros((col,))\n",
    "for i in range(3):\n",
    "    s[i], theta[i], err[i] = decision_stump(X[:, i], Y[:, 0])\n",
    "    print('theta',theta)\n",
    "pos = np.argmin(err)"
   ]
  },
  {
   "cell_type": "code",
   "execution_count": null,
   "metadata": {},
   "outputs": [],
   "source": []
  }
 ],
 "metadata": {
  "kernelspec": {
   "display_name": "Python 3",
   "language": "python",
   "name": "python3"
  },
  "language_info": {
   "codemirror_mode": {
    "name": "ipython",
    "version": 3
   },
   "file_extension": ".py",
   "mimetype": "text/x-python",
   "name": "python",
   "nbconvert_exporter": "python",
   "pygments_lexer": "ipython3",
   "version": "3.6.4"
  }
 },
 "nbformat": 4,
 "nbformat_minor": 2
}
