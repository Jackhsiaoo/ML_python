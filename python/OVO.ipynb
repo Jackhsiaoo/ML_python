{
 "cells": [
  {
   "cell_type": "code",
   "execution_count": 8,
   "metadata": {},
   "outputs": [
    {
     "name": "stdout",
     "output_type": "stream",
     "text": [
      "combination:\n",
      " <itertools.combinations object at 0x01441570>\n",
      "pair= (([(1, 0.7, 7.6), (1, 1.2, 9.5), (1, 2.3, 9.1), (1, 1.5, 8.4)], 'bo'), ([(1, 7.6, 0.7), (1, 9, 1.9), (1, 8.1, 3), (1, 7.1, 2.2)], 'rx'))\n",
      "c1[0]= [(1, 0.7, 7.6), (1, 1.2, 9.5), (1, 2.3, 9.1), (1, 1.5, 8.4)]\n",
      "c2[0]= [(1, 7.6, 0.7), (1, 9, 1.9), (1, 8.1, 3), (1, 7.1, 2.2)]\n",
      "data1 [((1, 0.7, 7.6), 1), ((1, 1.2, 9.5), 1), ((1, 2.3, 9.1), 1), ((1, 1.5, 8.4), 1)]\n",
      "data2 [((1, 0.7, 7.6), 1), ((1, 1.2, 9.5), 1), ((1, 2.3, 9.1), 1), ((1, 1.5, 8.4), 1), ((1, 7.6, 0.7), 0), ((1, 9, 1.9), 0), ((1, 8.1, 3), 0), ((1, 7.1, 2.2), 0)]\n",
      "classifier:\n",
      " (array([-4.37685960e-04, -1.63467759e+00,  1.67402826e+00]), ('bo', 'rx'))\n",
      "classifier_set:\n",
      " [(array([-4.37685960e-04, -1.63467759e+00,  1.67402826e+00]), ('bo', 'rx'))]\n",
      "pair= (([(1, 0.7, 7.6), (1, 1.2, 9.5), (1, 2.3, 9.1), (1, 1.5, 8.4)], 'bo'), ([(1, 6, 9.1), (1, 8, 7.8), (1, 8.1, 9), (1, 8.2, 9.2)], 'g*'))\n",
      "c1[0]= [(1, 0.7, 7.6), (1, 1.2, 9.5), (1, 2.3, 9.1), (1, 1.5, 8.4)]\n",
      "c2[0]= [(1, 6, 9.1), (1, 8, 7.8), (1, 8.1, 9), (1, 8.2, 9.2)]\n",
      "data1 [((1, 0.7, 7.6), 1), ((1, 1.2, 9.5), 1), ((1, 2.3, 9.1), 1), ((1, 1.5, 8.4), 1)]\n",
      "data2 [((1, 0.7, 7.6), 1), ((1, 1.2, 9.5), 1), ((1, 2.3, 9.1), 1), ((1, 1.5, 8.4), 1), ((1, 6, 9.1), 0), ((1, 8, 7.8), 0), ((1, 8.1, 9), 0), ((1, 8.2, 9.2), 0)]\n",
      "classifier:\n",
      " (array([ 0.21125949, -4.54316652,  1.69902098]), ('bo', 'g*'))\n",
      "classifier_set:\n",
      " [(array([-4.37685960e-04, -1.63467759e+00,  1.67402826e+00]), ('bo', 'rx')), (array([ 0.21125949, -4.54316652,  1.69902098]), ('bo', 'g*'))]\n",
      "pair= (([(1, 7.6, 0.7), (1, 9, 1.9), (1, 8.1, 3), (1, 7.1, 2.2)], 'rx'), ([(1, 6, 9.1), (1, 8, 7.8), (1, 8.1, 9), (1, 8.2, 9.2)], 'g*'))\n",
      "c1[0]= [(1, 7.6, 0.7), (1, 9, 1.9), (1, 8.1, 3), (1, 7.1, 2.2)]\n",
      "c2[0]= [(1, 6, 9.1), (1, 8, 7.8), (1, 8.1, 9), (1, 8.2, 9.2)]\n",
      "data1 [((1, 7.6, 0.7), 1), ((1, 9, 1.9), 1), ((1, 8.1, 3), 1), ((1, 7.1, 2.2), 1)]\n",
      "data2 [((1, 7.6, 0.7), 1), ((1, 9, 1.9), 1), ((1, 8.1, 3), 1), ((1, 7.1, 2.2), 1), ((1, 6, 9.1), 0), ((1, 8, 7.8), 0), ((1, 8.1, 9), 0), ((1, 8.2, 9.2), 0)]\n",
      "classifier:\n",
      " (array([ 0.33801085,  2.94554075, -3.75830096]), ('rx', 'g*'))\n",
      "classifier_set:\n",
      " [(array([-4.37685960e-04, -1.63467759e+00,  1.67402826e+00]), ('bo', 'rx')), (array([ 0.21125949, -4.54316652,  1.69902098]), ('bo', 'g*')), (array([ 0.33801085,  2.94554075, -3.75830096]), ('rx', 'g*'))]\n",
      "data (1, 10, 10) result: g*\n",
      "data (1, 1.5, 10) result: bo\n",
      "data (1, 10, 1.5) result: rx\n"
     ]
    },
    {
     "data": {
      "image/png": "[encoded data removed]",
      "text/plain": [
       "<Figure size 432x288 with 1 Axes>"
      ]
     },
     "metadata": {},
     "output_type": "display_data"
    }
   ],
   "source": [
    "import numpy as np\n",
    "import matplotlib.pyplot as plt\n",
    "import itertools\n",
    "def sigmoid(z):\n",
    "    return 1 / (1 + np.exp(-z))\n",
    "\n",
    "def gradient(dataset, w):\n",
    "    g = np.zeros(len(w))\n",
    "    for x,y in dataset:\n",
    "        x = np.array(x)\n",
    "        error = sigmoid(w.T.dot(x))\n",
    "        g += (error - y) * x\n",
    "    return g / len(dataset)\n",
    "\n",
    "def logistic(dataset):\n",
    "    w = np.zeros(3)\n",
    "    limit = 10\n",
    "    eta = 1\n",
    "    for i in range(limit):\n",
    "        w = w - eta * gradient(dataset, w)\n",
    "        eta *= 0.9\n",
    "    return w\n",
    "def vote(data):\n",
    "    result = []\n",
    "    for classifier, labels in classifier_set:\n",
    "     if classifier.T.dot(data) > 0:\n",
    "         result += [labels[0]]\n",
    "     else:\n",
    "         result += [labels[1]]\n",
    "    count_map = {}\n",
    "    for r in result:\n",
    "     count_map[r] = count_map.get(r, 0) + 1\n",
    "    #選出最高票的進行回傳\n",
    "\n",
    "    return sorted(count_map.items(), key=lambda x: x[1], reverse=True)[0][0]\n",
    "class1 = [(1, 0.7, 7.6), (1, 1.2, 9.5), (1, 2.3, 9.1), (1, 1.5, 8.4)]\n",
    "class2 = [(1, 7.6, 0.7), (1, 9, 1.9), (1, 8.1, 3), (1, 7.1, 2.2)]\n",
    "class3 = [(1, 6, 9.1), (1, 8, 7.8), (1, 8.1, 9), (1, 8.2, 9.2)]\n",
    "dataset = [(class1, 'bo'), (class2, 'rx'), (class3, 'g*')]\n",
    "training_class_set = itertools.combinations(dataset, 2)\n",
    "print('combination:\\n',training_class_set)\n",
    "classifier_set = []\n",
    "for pair_class in training_class_set:\n",
    "    print(\"pair=\",pair_class)\n",
    "    c1, c2 = pair_class\n",
    "    print('c1[0]=',c1[0])\n",
    "    print('c2[0]=',c2[0])\n",
    "    training_data = [ (v, 1) for v in c1[0]]\n",
    "    print('data1',training_data)\n",
    "    training_data += [ (v, 0) for v in c2[0]]\n",
    "    print('data2',training_data)\n",
    "    w=logistic(training_data)\n",
    "    classifier = (w, (c1[1], c2[1]))\n",
    "    print(\"classifier:\\n\",classifier)\n",
    "    classifier_set += [classifier]\n",
    "    print(\"classifier_set:\\n\",classifier_set)\n",
    "test_data = [(1, 10, 10), (1, 1.5, 10), (1, 10, 1.5)]\n",
    "for data in test_data:\n",
    "    label = vote(data)\n",
    "    print('data',data,'result:',vote(data))\n",
    "    plt.plot(data[1], data[2], label)\n",
    "plt.xlim(0, 12)\n",
    "plt.ylim(0, 12)\n",
    "plt.show()"
   ]
  },
  {
   "cell_type": "code",
   "execution_count": 13,
   "metadata": {},
   "outputs": [
    {
     "data": {
      "image/png": "[encoded data removed]",
      "text/plain": [
       "<Figure size 432x288 with 1 Axes>"
      ]
     },
     "metadata": {},
     "output_type": "display_data"
    },
    {
     "data": {
      "image/png": "[encoded data removed]",
      "text/plain": [
       "<Figure size 432x288 with 1 Axes>"
      ]
     },
     "metadata": {},
     "output_type": "display_data"
    },
    {
     "data": {
      "image/png": "[encoded data removed]",
      "text/plain": [
       "<Figure size 432x288 with 1 Axes>"
      ]
     },
     "metadata": {},
     "output_type": "display_data"
    }
   ],
   "source": [
    "import numpy as np\n",
    "import matplotlib.pyplot as plt\n",
    "import itertools\n",
    "\n",
    "\n",
    "###\n",
    "def sigmoid(z):\n",
    "    return 1 / (1 + np.exp(-z))\n",
    "\n",
    "def gradient(dataset, w):\n",
    "    g = np.zeros(len(w))\n",
    "    for x,y in dataset:\n",
    "        x = np.array(x)\n",
    "        error = sigmoid(w.T.dot(x))\n",
    "        g += (error - y) * x\n",
    "    return g / len(dataset)\n",
    "\n",
    "def logistic(dataset):\n",
    "    w = np.zeros(3)\n",
    "    limit = 10\n",
    "    eta = 1\n",
    "    for i in range(limit):\n",
    "        w = w - eta * gradient(dataset, w)\n",
    "        eta *= 0.9\n",
    "    return w\n",
    "###\n",
    "\n",
    "\n",
    "class1 = [(1, 0.7, 7.6), (1, 1.2, 9.5), (1, 2.3, 9.1), (1, 1.5, 8.4)]\n",
    "class2 = [(1, 7.6, 0.7), (1, 9, 1.9), (1, 8.1, 3), (1, 7.1, 2.2)]\n",
    "class3 = [(1, 6, 9.1), (1, 8, 7.8), (1, 8.1, 9), (1, 8.2, 9.2)]\n",
    "dataset = [(class1, 'bo'), (class2, 'rx'), (class3, 'g*')]\n",
    "\n",
    "\n",
    "def ovo(dataset, binary_classifier):\n",
    "    training_class_set = itertools.combinations(dataset, 2)\n",
    "    classifier_set = []\n",
    "    for pair_class in training_class_set:\n",
    "        c1, c2 = pair_class\n",
    "        training_data = [ (v, 1) for v in c1[0]]\n",
    "        training_data += [ (v, 0) for v in c2[0]]\n",
    "        classifier = (binary_classifier(training_data), (c1[1], c2[1]))\n",
    "        classifier_set += [classifier]\n",
    "\n",
    "    def vote(data):\n",
    "         result = []\n",
    "         for classifier, labels in classifier_set:\n",
    "             if classifier.T.dot(data) > 0:\n",
    "                 result += [labels[0]]\n",
    "             else:\n",
    "                 result += [labels[1]]\n",
    "         count_map = {}\n",
    "         for r in result:\n",
    "             count_map[r] = count_map.get(r, 0) + 1\n",
    "         return sorted(count_map.items(), key=lambda x: x[1], reverse=True)[0][0]\n",
    "    return vote\n",
    "\n",
    "multiple_classifier = ovo(dataset, logistic)\n",
    "\n",
    "plt.plot([v[1] for v in class1 ], [v[2] for v in class1 ],'bo')\n",
    "plt.plot([v[1] for v in class2 ], [v[2] for v in class2 ],'rx')\n",
    "plt.plot([v[1] for v in class3 ], [v[2] for v in class3 ],'g*')\n",
    "plt.xlim(0, 12)\n",
    "plt.ylim(0, 12)\n",
    "plt.show()\n",
    "\n",
    "test_data = [(1, 10, 10), (1, 1.5, 10), (1, 10, 1.5)]\n",
    "for data in test_data:\n",
    "    plt.plot(data[1], data[2], 'k.')\n",
    "plt.xlim(0, 12)\n",
    "plt.ylim(0, 12)\n",
    "plt.show()\n",
    "\n",
    "for data in test_data:\n",
    "    label = multiple_classifier(data)\n",
    "    plt.plot(data[1], data[2], label)\n",
    "plt.xlim(0, 12)\n",
    "plt.ylim(0, 12)\n",
    "plt.show()"
   ]
  },
  {
   "cell_type": "code",
   "execution_count": 13,
   "metadata": {},
   "outputs": [
    {
     "name": "stdout",
     "output_type": "stream",
     "text": [
      "a: ('A', 'B')\n",
      "a: ('A', 'C')\n",
      "a: ('A', 'D')\n",
      "a: ('B', 'C')\n",
      "a: ('B', 'D')\n",
      "a: ('C', 'D')\n"
     ]
    }
   ],
   "source": [
    "A=itertools.combinations('ABCD', 2)\n",
    "for a in A:\n",
    "    print('a:',a)"
   ]
  },
  {
   "cell_type": "code",
   "execution_count": null,
   "metadata": {},
   "outputs": [],
   "source": []
  }
 ],
 "metadata": {
  "kernelspec": {
   "display_name": "Python 3",
   "language": "python",
   "name": "python3"
  },
  "language_info": {
   "codemirror_mode": {
    "name": "ipython",
    "version": 3
   },
   "file_extension": ".py",
   "mimetype": "text/x-python",
   "name": "python",
   "nbconvert_exporter": "python",
   "pygments_lexer": "ipython3",
   "version": "3.6.4"
  }
 },
 "nbformat": 4,
 "nbformat_minor": 2
}
