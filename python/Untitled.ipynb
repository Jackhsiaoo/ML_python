{
 "cells": [
  {
   "cell_type": "code",
   "execution_count": 1,
   "metadata": {},
   "outputs": [
    {
     "name": "stdout",
     "output_type": "stream",
     "text": [
      "X=\n",
      " (46, 3)\n",
      "X.I=\n",
      " (3, 46)\n",
      "y=\n",
      " (46, 1)\n",
      "w1=\n",
      " [[11.7172528 ]\n",
      " [ 0.24620556]\n",
      " [-0.10584109]]\n",
      "mul= [[4 6]\n",
      " [6 4]]\n"
     ]
    }
   ],
   "source": [
    "import numpy as np\n",
    "import matplotlib.pyplot as plt\n",
    "from mpl_toolkits.mplot3d import Axes3D\n",
    "x = [45.9, 41.3, 10.8, 48.9, 32.8, 19.6, 2.1, 2.6, 5.8, 24, 35.1, 7.6, 32.9, 39.6, 20.5, 23.9, 27.7, 5.1, 15.9, 16.9, 12.6, 3.5, 29.3, 16.7, 27.1, 16, 28.3, 17.4, 1.5, 20, 1.4, 4.1, 43.8, 49.4, 26.7, 37.7, 22.3, 33.4, 27.7, 8.4, 25.7, 22.5, 9.9, 41.5, 15.8, 11.7]\n",
    "\n",
    "y = [69.3, 58.5, 58.4, 75, 23.5, 11.6, 1, 21.2, 24.2, 4, 65.9, 7.2, 46, 55.8, 18.3, 19.1, 53.4, 23.5, 49.6, 26.2, 18.3, 19.5, 12.6, 22.9, 22.9, 40.8, 43.2, 38.6, 30, 0.3, 7.4, 8.5, 5, 45.7, 35.1, 32, 31.6, 38.7, 1.8, 26.4, 43.3, 31.5, 35.7, 18.5, 49.9, 36.8]\n",
    "\n",
    "z = [9.3, 18.5, 12.9, 7.2, 11.8, 13.2, 4.8, 10.6, 8.6, 17.4, 9.2, 9.7, 19, 24.4, 11.3, 14.6, 18, 12.5, 5.6, 15.5, 9.7, 12, 15, 15.9, 18.9, 10.5, 21.4, 11.9, 9.6, 17.4, 9.5, 12.8, 25.4, 14.7, 10.1, 21.5, 16.6, 17.1, 20.7, 12.9, 8.5, 14.9, 10.6, 23.2, 14.8, 9.7]\n",
    "\n",
    "X = np.mat([x, y]).T\n",
    "\n",
    "Y = np.mat([z]).T\n",
    "X = np.insert(X, 0, np.ones(46), 1)\n",
    "print('X=\\n',X.shape)\n",
    "print('X.I=\\n',X.I.shape)\n",
    "print('y=\\n',Y.shape)\n",
    "W = X.I * Y\n",
    "#W2 = X.I.T * Y\n",
    "print(\"w1=\\n\",W)\n",
    "#print(\"w2=\\n\",W2)\n",
    "LR = lambda x, y: W[0, 0] + W[1, 0] * x + W[2, 0] * y\n",
    "\n",
    "#畫圖輸出結果\n",
    "\n",
    "x2 = y2 = np.arange(0, 60.0)\n",
    "X, Y = np.meshgrid(x2, y2)\n",
    "zs = np.array([LR(x2,y2) for x2,y2 in zip(np.ravel(X), np.ravel(Y))])\n",
    "Z = zs.reshape(X.shape)\n",
    "\n",
    "a=np.array([[1,2],\n",
    "            [3,4]])\n",
    "b=np.array([[4,3],\n",
    "            [2,1]])\n",
    "print('mul=',a*b)\n",
    "\n"
   ]
  },
  {
   "cell_type": "code",
   "execution_count": 24,
   "metadata": {},
   "outputs": [
    {
     "name": "stdout",
     "output_type": "stream",
     "text": [
      "y=\n",
      " [ 0.          0.52631579  1.05263158  1.57894737  2.10526316  2.63157895\n",
      "  3.15789474  3.68421053  4.21052632  4.73684211  5.26315789  5.78947368\n",
      "  6.31578947  6.84210526  7.36842105  7.89473684  8.42105263  8.94736842\n",
      "  9.47368421 10.        ]\n",
      "random=\n",
      " [0.31923141 0.03586183 0.28280953 0.57614726 0.31448092 0.40573808\n",
      " 0.946315   0.30878966 0.96973075 0.79698771 0.58137029 0.96650822\n",
      " 0.50079841 0.63995554 0.68865534]\n"
     ]
    },
    {
     "data": {
      "image/png": "[encoded data removed]",
      "text/plain": [
       "<Figure size 432x288 with 1 Axes>"
      ]
     },
     "metadata": {},
     "output_type": "display_data"
    }
   ],
   "source": [
    "import numpy as np\n",
    "import matplotlib.pyplot as plt\n",
    "\n",
    "#Target function line\n",
    "\n",
    "X = np.linspace(0, 10,20)\n",
    "f = lambda x: x #y=x\n",
    "F = np.vectorize(f)\n",
    "Y = F(X)\n",
    "#print('y=\\n',Y)\n",
    "#random data by F(X) + random residual(upper bound=2)\n",
    "\n",
    "num = 15 #number of data\n",
    "\n",
    "random_sign = np.vectorize(lambda x: x if np.random.sample() > 0.5 else -x)\n",
    "data_X = np.linspace(1, 9, num)\n",
    "data_Y = random_sign(np.random.sample(num) * 2) + F(data_X)\n",
    "print('random=\\n',np.random.sample(num))\n",
    "plt.plot(X, Y, 'b')\n",
    "plt.show()\n"
   ]
  },
  {
   "cell_type": "code",
   "execution_count": 29,
   "metadata": {},
   "outputs": [
    {
     "name": "stdout",
     "output_type": "stream",
     "text": [
      "residul= 281.163434903047*a**2 + 110.526315789474*a*b - 562.326869806094*a + 15*b**2 - 110.526315789474*b + 281.163434903047\n",
      "f1= 562.326869806094*a + 110.526315789474*b - 562.326869806094\n",
      "f2= 110.526315789474*a + 30*b - 110.526315789474\n",
      "a= 1.00000000000000 b= 0.0\n"
     ]
    }
   ],
   "source": [
    "from sympy import *\n",
    "a, b = symbols('a b')\n",
    "residual = 0\n",
    "#residualSum 求殘差\n",
    "\n",
    "for i in range(num):\n",
    "    residual += (Y[i] - (a * X[i] + b)) ** 2\n",
    "\n",
    "#展開觀看方程式內容\n",
    "\n",
    "print('residul=',expand(residual))\n",
    "#對a微分\n",
    "\n",
    "f1 = diff(residual, a)\n",
    "#對b微分\n",
    "\n",
    "f2 = diff(residual, b)\n",
    "print('f1=',f1)\n",
    "print ('f2=',f2)\n",
    "#求聯立方程式的解\n",
    "\n",
    "res = solve([f1, f2], [a, b])\n",
    "print('a=',res[a],'b=', res[b])"
   ]
  },
  {
   "cell_type": "code",
   "execution_count": 3,
   "metadata": {},
   "outputs": [
    {
     "name": "stdout",
     "output_type": "stream",
     "text": [
      "[[0 0]]\n",
      "2.8250003566832635\n"
     ]
    }
   ],
   "source": [
    "import numpy as np\n",
    "import math\n",
    "u=0;v=0\n",
    "eta=0.01\n",
    "f= np.mat([u,v])\n",
    "print(f)\n",
    "for i in range(5):\n",
    "    du=math.exp(u)+v*math.exp(u*v)+2*u-2*v-3\n",
    "    dv=2*math.exp(2*v)+u*math.exp(u*v)-2*u+4*v-2\n",
    "    gradi=np.mat([du,dv])\n",
    "    f=f-eta*gradi\n",
    "    u=f[0,0]\n",
    "    v=f[0,1]\n",
    "answer=math.exp(u)+math.exp(2*v)+math.exp(u*v)+pow(u,2)-2*u*v+2*pow(v,2)-3*u-2*v\n",
    "print(answer)\n",
    "\n",
    "\n",
    "\n"
   ]
  },
  {
   "cell_type": "code",
   "execution_count": 10,
   "metadata": {},
   "outputs": [
    {
     "name": "stdout",
     "output_type": "stream",
     "text": [
      "u and v:  [[0.61181172 0.07049955]]\n",
      "E:  2.360823345643139\n"
     ]
    }
   ],
   "source": [
    "import scipy.linalg as lin\n",
    "u = 0.0; v = 0.0\n",
    "eta=0.01\n",
    "uv = np.array([[0.0],\n",
    "               [0.0]])\n",
    "for i in range(5):\n",
    "    du = math.exp(u)+v*math.exp(u*v)+2*u-2*v-3\n",
    "    dv = 2*math.exp(2*v)+u*math.exp(u*v)-2*u+4*v-2\n",
    "    dE = np.array([[du],\n",
    "                   [dv]])\n",
    "    #uv -= eta*dE\n",
    "    du2 = math.exp(u)+v**2*math.exp(u*v)+2\n",
    "    dv2 = 4*math.exp(2*v)+u**2*math.exp(u*v)+4\n",
    "    dudv = math.exp(u*v)+v*u*math.exp(u*v)-2\n",
    "    ddE = np.array([[du2, dudv],\n",
    "                    [dudv, dv2]])\n",
    "    dE = np.array([[du],\n",
    "                   [dv]])\n",
    "    uv = uv-lin.inv(ddE).dot(dE)\n",
    "    u = uv[0, 0]\n",
    "    v = uv[1, 0]\n",
    "print('u and v: ',uv.T)\n",
    "E = math.exp(u)+math.exp(2*v)+math.exp(u*v)+u**2-2*u*v+2*v**2-3*u-2*v\n",
    "print('E: ',E)\n",
    "\n"
   ]
  },
  {
   "cell_type": "code",
   "execution_count": null,
   "metadata": {},
   "outputs": [],
   "source": []
  },
  {
   "cell_type": "code",
   "execution_count": null,
   "metadata": {},
   "outputs": [],
   "source": []
  }
 ],
 "metadata": {
  "kernelspec": {
   "display_name": "Python 3",
   "language": "python",
   "name": "python3"
  },
  "language_info": {
   "codemirror_mode": {
    "name": "ipython",
    "version": 3
   },
   "file_extension": ".py",
   "mimetype": "text/x-python",
   "name": "python",
   "nbconvert_exporter": "python",
   "pygments_lexer": "ipython3",
   "version": "3.6.4"
  }
 },
 "nbformat": 4,
 "nbformat_minor": 2
}
