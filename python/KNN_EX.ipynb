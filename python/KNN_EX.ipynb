{
 "cells": [
  {
   "cell_type": "code",
   "execution_count": 9,
   "metadata": {},
   "outputs": [
    {
     "name": "stdout",
     "output_type": "stream",
     "text": [
      "1. 計算每個距離:\n",
      "Lexus : 0.9681166013991743\n",
      "BMW : 0.9951799923636699\n",
      "iphone : 0.17708270322707476\n",
      "htc : 0.19962346850654344\n",
      "Lebron James : 0.38465547260154115\n",
      "Jeremy Lin : 0.3226614451803124\n",
      "2. 取K個最近鄰居的分類, k =  3 :\n",
      "similarity( BMW ) =  0.9951799923636699 ,class: Car\n",
      "similarity( Lexus ) =  0.9681166013991743 ,class: Car\n",
      "similarity( Lebron James ) =  0.38465547260154115 ,class: Basketball\n",
      "3. 決定票數和決定分類:\n",
      "{'Phone': 0, 'Car': 2, 'Basketball': 1}\n",
      "Phone : 0\n",
      "Car : 2\n",
      "Basketball : 1\n",
      "4. 輸入的資料分類為: Car\n"
     ]
    }
   ],
   "source": [
    "# encoding: utf-8\n",
    "import math\n",
    "\"\"\"\n",
    "簡易KNN sample分析, 參考：http://enginebai.logdown.com/posts/241676/knn 此篇文章出來的\n",
    "\"\"\"\n",
    "\n",
    "def create_trainset():\n",
    "    \"\"\"\n",
    "    產生訓練樣本\n",
    "    \"\"\"\n",
    "    trainset_data = dict()\n",
    "    trainset_data['Lexus'] = (15, 25, 0, 5, 8, 3)\n",
    "    trainset_data['BMW'] = (35, 40, 1, 3, 3, 2)\n",
    "    trainset_data['iphone'] = (5, 0, 35, 50, 0, 0)\n",
    "    trainset_data['htc'] = (1, 5, 32, 15, 0, 0)\n",
    "    trainset_data['Lebron James'] = (10, 5, 7, 0, 2, 30)\n",
    "    trainset_data['Jeremy Lin'] = (5, 5, 5, 15, 8, 32)\n",
    "    \n",
    "    \"\"\"\n",
    "    產生訓練樣本所屬類別\n",
    "    \"\"\"\n",
    "    trainset_class = dict()\n",
    "    trainset_class['Lexus'] = 'Car'\n",
    "    trainset_class['BMW'] = 'Car'\n",
    "    trainset_class['iphone'] = 'Phone'\n",
    "    trainset_class['htc'] = 'Phone'\n",
    "    trainset_class['Lebron James'] = 'Basketball'\n",
    "    trainset_class['Jeremy Lin'] = 'Basketball'\n",
    "    \n",
    "    return trainset_data,trainset_class\n",
    "\n",
    "def cosine_sim(v1,v2):\n",
    "    \"\"\"\n",
    "    計算每兩個向量間的Cosine距離，距離越近，相似度越高\n",
    "    簡易公式複習：xyz.../(x^2+y^2+z^2+...)^1/2\n",
    "    \"\"\"\n",
    "    sum_xx = 0.0\n",
    "    sum_xy = 0.0\n",
    "    sum_yy = 0.0\n",
    "    \n",
    "    #運用math library\n",
    "    for i in range(len(v1)):\n",
    "        sum_xx += math.pow(v1[i],2)\n",
    "        sum_yy += math.pow(v2[i],2)\n",
    "        sum_xy += v1[i]*v2[i]\n",
    "    return sum_xy/math.sqrt(sum_xx*sum_yy)\n",
    "\n",
    "\n",
    "def KNN_algorithm(input_data,trainset_data,trainset_class,k):\n",
    "    \"\"\"\n",
    "    KNN演算法\n",
    "    1. 計算每個train data與欲計算data的距離\n",
    "    2. 選定Ｋ值\n",
    "    3. 接著在Ｋ個相近點投票，選定欲計算的data屬於哪個分類\n",
    "    4. 印出結果\n",
    "    \"\"\"\n",
    "\n",
    "    distance = dict()\n",
    "\n",
    "    print ('1. 計算每個距離:')\n",
    "    for i in trainset_data:\n",
    "        distance[i] = cosine_sim(trainset_data[i],input_data)\n",
    "    for name in distance:\n",
    "        print (name,\":\", distance[name])\n",
    "        \n",
    "    print ('2. 取K個最近鄰居的分類, k = ', k,':')\n",
    "    class_k = dict()\n",
    "\n",
    "    rank = sorted(distance,key = distance.get,reverse = True) #由大到小排列好\n",
    "\n",
    "    for count in range(len(rank)):\n",
    "        class_k[count] = trainset_class[rank[count]]\n",
    "        print ('similarity(',rank[count],') = ',distance[rank[count]],',class:',class_k[count])\n",
    "        if count+1 >= k:\n",
    "            break\n",
    "            \n",
    "    print ('3. 決定票數和決定分類:')\n",
    "    result = dict()\n",
    "    ctr_phone, ctr_car, ctr_basketball = 0,0,0 #這邊應該要再修改得更漂亮，但我想不出來\n",
    "\n",
    "    for i in range(len(class_k)):\n",
    "\n",
    "        if 'Phone' in class_k.get(i):\n",
    "            ctr_phone +=1\n",
    "        result['Phone'] = ctr_phone\n",
    "\n",
    "        if 'Car' in class_k.get(i):\n",
    "            ctr_car += 1\n",
    "        result['Car'] = ctr_car\n",
    "\n",
    "        if 'Basketball' in class_k.get(i):\n",
    "            ctr_basketball += 1\n",
    "        result['Basketball'] = ctr_basketball\n",
    "    print (result)\n",
    "    for name in result:\n",
    "        print (name,\":\",result[name])\n",
    "        \n",
    "    final_result = ''\n",
    "    if (k % 2 != 0):   \n",
    "        for i in enumerate(sorted(result,key = result.get,reverse = True)):\n",
    "            if i[0] == 0:\n",
    "                final_result = i[1]\n",
    "                \n",
    "    print (\"4. 輸入的資料分類為:\",final_result)\n",
    "\n",
    "\n",
    "\n",
    "if __name__ == '__main__':\n",
    "    \n",
    "    input_data = (50, 55, 2, 10, 8, 5)\n",
    "    trainset_data,trainset_class = create_trainset()\n",
    "    KNN_algorithm(input_data,trainset_data,trainset_class,k = 3)"
   ]
  },
  {
   "cell_type": "code",
   "execution_count": 12,
   "metadata": {},
   "outputs": [
    {
     "name": "stdout",
     "output_type": "stream",
     "text": [
      "1. 計算每個距離:\n",
      "Lexus : 0.9681166013991743\n",
      "BMW : 0.9951799923636699\n",
      "iphone : 0.17708270322707476\n",
      "htc : 0.19962346850654344\n",
      "Lebron James : 0.38465547260154115\n",
      "Jeremy Lin : 0.3226614451803124\n"
     ]
    }
   ],
   "source": [
    "distance = dict()\n",
    "\n",
    "print ('1. 計算每個距離:')\n",
    "for i in trainset_data:\n",
    "    distance[i] = cosine_sim(trainset_data[i],input_data)\n",
    "for name in distance:\n",
    "    print (name,\":\", distance[name])"
   ]
  },
  {
   "cell_type": "code",
   "execution_count": 21,
   "metadata": {},
   "outputs": [
    {
     "name": "stdout",
     "output_type": "stream",
     "text": [
      "BMW,Car,0.9951799923636699 \n",
      "Lexus,Car,0.9681166013991743 \n",
      "Lebron James,Basketball,0.38465547260154115 \n",
      "Jeremy Lin,Basketball,0.3226614451803124 \n",
      "htc,Phone,0.19962346850654344 \n",
      "iphone,Phone,0.17708270322707476 \n",
      "{'Phone': 2, 'car': 0, 'baseketball': 0}\n"
     ]
    }
   ],
   "source": [
    "rank = sorted(distance,key = distance.get,reverse = True) #由大到小排列好\n",
    "class_i = dict()\n",
    "n_car, n_phone, n_ball=0,0,0\n",
    "for i in range(len(rank)):\n",
    "    class_i[i] = trainset_class[rank[i]]\n",
    "    print  ( '%s,%s,%s ' % (rank[i],class_i[i],distance[rank[i]]) )\n",
    "result = dict()\n",
    "for i in range(len(class_i)):\n",
    "    if 'Phone' in class_i.get(i):\n",
    "        n_phone +=1\n",
    "    result['Phone'] = n_phone\n",
    "        \n",
    "    if 'car' in class_i.get(i):\n",
    "        n_car +=1\n",
    "    result['car'] = n_car\n",
    "        \n",
    "    if 'baseketball' in class_i.get(i):\n",
    "        n_ball +=1\n",
    "    result['baseketball'] = n_ball\n",
    "        \n",
    "print(result)"
   ]
  },
  {
   "cell_type": "code",
   "execution_count": 25,
   "metadata": {},
   "outputs": [
    {
     "name": "stdout",
     "output_type": "stream",
     "text": [
      "{0: 'Car', 1: 'Car', 2: 'Basketball', 3: 'Basketball', 4: 'Phone', 5: 'Phone'}\n",
      "0,Car\n",
      "1,Car\n",
      "2,Basketball\n",
      "3,Basketball\n",
      "4,Phone\n",
      "5,Phone\n"
     ]
    }
   ],
   "source": [
    "print(class_i)\n",
    "for i in range(len(class_i)):\n",
    "    print(\"%s,%s\" %(i,class_i.get(i)) )"
   ]
  },
  {
   "cell_type": "code",
   "execution_count": 30,
   "metadata": {},
   "outputs": [
    {
     "name": "stdout",
     "output_type": "stream",
     "text": [
      "{'Phone': 2, 'car': 0, 'baseketball': 0}\n",
      "Car\n"
     ]
    }
   ],
   "source": [
    "print(result)\n",
    "print(class_i.get(0))"
   ]
  },
  {
   "cell_type": "code",
   "execution_count": 31,
   "metadata": {},
   "outputs": [
    {
     "name": "stdout",
     "output_type": "stream",
     "text": [
      "{0: 'Car', 1: 'Car', 2: 'Basketball', 3: 'Basketball', 4: 'Phone', 5: 'Phone'}\n"
     ]
    }
   ],
   "source": [
    "print(str(class_i))"
   ]
  },
  {
   "cell_type": "code",
   "execution_count": 19,
   "metadata": {},
   "outputs": [
    {
     "data": {
      "text/plain": [
       "[('iphone', 0.17708270322707476),\n",
       " ('htc', 0.19962346850654344),\n",
       " ('Jeremy Lin', 0.3226614451803124),\n",
       " ('Lebron James', 0.38465547260154115),\n",
       " ('Lexus', 0.9681166013991743),\n",
       " ('BMW', 0.9951799923636699)]"
      ]
     },
     "execution_count": 19,
     "metadata": {},
     "output_type": "execute_result"
    }
   ],
   "source": [
    "distance = dict()\n",
    "for i in trainset_data:\n",
    "    distance[i] = cosine_sim(trainset_data[i],input_data)\n",
    "sorted(distance.keys())\n",
    "sorted(distance.items(), key=lambda distance: distance[1])"
   ]
  },
  {
   "cell_type": "code",
   "execution_count": null,
   "metadata": {},
   "outputs": [],
   "source": []
  }
 ],
 "metadata": {
  "kernelspec": {
   "display_name": "Python 3",
   "language": "python",
   "name": "python3"
  },
  "language_info": {
   "codemirror_mode": {
    "name": "ipython",
    "version": 3
   },
   "file_extension": ".py",
   "mimetype": "text/x-python",
   "name": "python",
   "nbconvert_exporter": "python",
   "pygments_lexer": "ipython3",
   "version": "3.6.4"
  }
 },
 "nbformat": 4,
 "nbformat_minor": 2
}
